{
 "cells": [
  {
   "cell_type": "markdown",
   "id": "178348d5",
   "metadata": {},
   "source": [
    "# Twitter Sentiment Analysis — Complete Project\n",
    "1. Data sources (sample CSV + instructions to fetch from Twitter API)\n",
    "2. Preprocessing (cleaning, tokenization, stopwords)\n",
    "3. Feature extraction (TF-IDF)\n",
    "4. Modeling (Logistic Regression) and evaluation\n",
    "5. Saving the trained model and vectorizer"
   ]
  },
  {
   "cell_type": "code",
   "execution_count": 1,
   "id": "651d4f6d",
   "metadata": {},
   "outputs": [
    {
     "name": "stdout",
     "output_type": "stream",
     "text": [
      "Sample dataset saved to: \\mnt\\data\\twitter_large_dataset\n"
     ]
    },
    {
     "data": {
      "text/html": [
       "<div>\n",
       "<style scoped>\n",
       "    .dataframe tbody tr th:only-of-type {\n",
       "        vertical-align: middle;\n",
       "    }\n",
       "\n",
       "    .dataframe tbody tr th {\n",
       "        vertical-align: top;\n",
       "    }\n",
       "\n",
       "    .dataframe thead th {\n",
       "        text-align: right;\n",
       "    }\n",
       "</style>\n",
       "<table border=\"1\" class=\"dataframe\">\n",
       "  <thead>\n",
       "    <tr style=\"text-align: right;\">\n",
       "      <th></th>\n",
       "      <th>tweet_id</th>\n",
       "      <th>text</th>\n",
       "      <th>sentiment</th>\n",
       "    </tr>\n",
       "  </thead>\n",
       "  <tbody>\n",
       "    <tr>\n",
       "      <th>0</th>\n",
       "      <td>1</td>\n",
       "      <td>I love the new phone! Battery life is amazing ...</td>\n",
       "      <td>positive</td>\n",
       "    </tr>\n",
       "    <tr>\n",
       "      <th>1</th>\n",
       "      <td>2</td>\n",
       "      <td>Terrible customer service, I'm never buying fr...</td>\n",
       "      <td>negative</td>\n",
       "    </tr>\n",
       "    <tr>\n",
       "      <th>2</th>\n",
       "      <td>3</td>\n",
       "      <td>Looks okay, but nothing special. Expected more.</td>\n",
       "      <td>neutral</td>\n",
       "    </tr>\n",
       "    <tr>\n",
       "      <th>3</th>\n",
       "      <td>4</td>\n",
       "      <td>What a fantastic update — app works much smoot...</td>\n",
       "      <td>positive</td>\n",
       "    </tr>\n",
       "    <tr>\n",
       "      <th>4</th>\n",
       "      <td>5</td>\n",
       "      <td>App crashes every time I open it. So frustrating.</td>\n",
       "      <td>negative</td>\n",
       "    </tr>\n",
       "  </tbody>\n",
       "</table>\n",
       "</div>"
      ],
      "text/plain": [
       "   tweet_id                                               text sentiment\n",
       "0         1  I love the new phone! Battery life is amazing ...  positive\n",
       "1         2  Terrible customer service, I'm never buying fr...  negative\n",
       "2         3    Looks okay, but nothing special. Expected more.   neutral\n",
       "3         4  What a fantastic update — app works much smoot...  positive\n",
       "4         5  App crashes every time I open it. So frustrating.  negative"
      ]
     },
     "execution_count": 1,
     "metadata": {},
     "output_type": "execute_result"
    }
   ],
   "source": [
    "# Setup: imports and creating a small sample dataset\n",
    "import pandas as pd\n",
    "from pathlib import Path\n",
    "\n",
    "DATA_PATH = Path('/mnt/data')\n",
    "DATA_PATH.mkdir(parents=True, exist_ok=True)\n",
    "\n",
    "sample_csv = DATA_PATH / 'twitter_large_dataset'\n",
    "if not sample_csv.exists():\n",
    "    sample_data = [\n",
    "        {'tweet_id':1, 'text':\"I love the new phone! Battery life is amazing 😍 #tech\", 'sentiment':'positive'},\n",
    "        {'tweet_id':2, 'text':\"Terrible customer service, I'm never buying from them again.\", 'sentiment':'negative'},\n",
    "        {'tweet_id':3, 'text':\"Looks okay, but nothing special. Expected more.\", 'sentiment':'neutral'},\n",
    "        {'tweet_id':4, 'text':\"What a fantastic update — app works much smoother now!\", 'sentiment':'positive'},\n",
    "        {'tweet_id':5, 'text':\"App crashes every time I open it. So frustrating.\", 'sentiment':'negative'},\n",
    "        {'tweet_id':6, 'text':\"Not bad for the price. Decent features.\", 'sentiment':'neutral'},\n",
    "    ]\n",
    "    df = pd.DataFrame(sample_data)\n",
    "    df.to_csv(sample_csv, index=False)\n",
    "else:\n",
    "    df = pd.read_csv(sample_csv)\n",
    "\n",
    "print(f\"Sample dataset saved to: {sample_csv}\")\n",
    "df.head()"
   ]
  },
  {
   "cell_type": "markdown",
   "id": "ef7f7614",
   "metadata": {},
   "source": [
    "## Fetch tweets (optional)\n",
    "\n",
    "If you want to use real Twitter data, follow these steps:\n",
    "\n",
    "1. Create a Twitter Developer account and create a Project & App to get API keys (Bearer token for v2 endpoints).\n",
    "2. Install `tweepy` or use `requests` to call Twitter API v2 search endpoints. Example code (fill in `BEARER_TOKEN`) below.\n"
   ]
  },
  {
   "cell_type": "code",
   "execution_count": 2,
   "id": "5abab0c3",
   "metadata": {},
   "outputs": [
    {
     "data": {
      "text/plain": [
       "\"\\nimport requests\\nimport pandas as pd\\nBEARER_TOKEN = '<YOUR_BEARER_TOKEN_HERE>'  # replace with your token\\nquery = 'climate change -is:retweet lang:en'  # example query\\nurl = 'https://api.twitter.com/2/tweets/search/recent'\\nparams = {'query': query, 'max_results': 100, 'tweet.fields':'id,text,created_at,lang'}\\nheaders = {'Authorization': f'Bearer {BEARER_TOKEN}'}\\nresp = requests.get(url, headers=headers, params=params)\\nif resp.status_code == 200:\\n    data = resp.json()\\n    tweets = [{'tweet_id':t['id'], 'text':t['text']} for t in data.get('data', [])]\\n    pd.DataFrame(tweets).to_csv('/mnt/data/twitter_fetched.csv', index=False)\\nelse:\\n    print('Request failed', resp.status_code, resp.text)\\n\""
      ]
     },
     "execution_count": 2,
     "metadata": {},
     "output_type": "execute_result"
    }
   ],
   "source": [
    "# Example: fetch tweets using Twitter API v2 (BEARER_TOKEN required)\n",
    "# This is a template. Fill BEARER_TOKEN and uncomment to run.\n",
    "'''\n",
    "import requests\n",
    "import pandas as pd\n",
    "BEARER_TOKEN = '<YOUR_BEARER_TOKEN_HERE>'  # replace with your token\n",
    "query = 'climate change -is:retweet lang:en'  # example query\n",
    "url = 'https://api.twitter.com/2/tweets/search/recent'\n",
    "params = {'query': query, 'max_results': 100, 'tweet.fields':'id,text,created_at,lang'}\n",
    "headers = {'Authorization': f'Bearer {BEARER_TOKEN}'}\n",
    "resp = requests.get(url, headers=headers, params=params)\n",
    "if resp.status_code == 200:\n",
    "    data = resp.json()\n",
    "    tweets = [{'tweet_id':t['id'], 'text':t['text']} for t in data.get('data', [])]\n",
    "    pd.DataFrame(tweets).to_csv('/mnt/data/twitter_fetched.csv', index=False)\n",
    "else:\n",
    "    print('Request failed', resp.status_code, resp.text)\n",
    "'''\n"
   ]
  },
  {
   "cell_type": "code",
   "execution_count": 3,
   "id": "dc5eedba",
   "metadata": {},
   "outputs": [
    {
     "name": "stdout",
     "output_type": "stream",
     "text": [
      "i love this check awesome\n",
      "love check awesome\n"
     ]
    }
   ],
   "source": [
    "# Preprocessing utilities (cleaning & basic tokenization)\n",
    "import re\n",
    "from sklearn.model_selection import train_test_split\n",
    "\n",
    "def clean_tweet(text):\n",
    "    text = str(text)\n",
    "    # lower\n",
    "    text = text.lower()\n",
    "    # remove URLs\n",
    "    text = re.sub(r'http\\S+|www\\.\\S+', '', text)\n",
    "    # remove mentions and hashtags (keep the tag word)\n",
    "    text = re.sub(r'@\\w+', '', text)\n",
    "    text = re.sub(r'#', '', text)\n",
    "    # remove punctuation and numbers\n",
    "    text = re.sub(r'[^a-z\\s]', ' ', text)\n",
    "    # collapse whitespace\n",
    "    text = re.sub(r'\\s+', ' ', text).strip()\n",
    "    return text\n",
    "\n",
    "# simple stopwords list (small, self-contained so no external downloads needed)\n",
    "STOPWORDS = set([\"a\",\"an\",\"the\",\"and\",\"or\",\"is\",\"it\",\"this\",\"that\",\"for\",\"of\",\"to\",\"in\",\"on\",\"with\",\"was\",\"are\",\"i\",\"me\",\"my\",\"you\",\"we\",\"they\",\"them\",\"but\",\"so\",\"not\"])\n",
    "\n",
    "def tokenize(text):\n",
    "    toks = [t for t in text.split() if t and t not in STOPWORDS]\n",
    "    return ' '.join(toks)\n",
    "\n",
    "# Quick test\n",
    "print(clean_tweet(\"I love this! Check http://example.com @user #awesome\"))\n",
    "print(tokenize(clean_tweet(\"I love this! Check http://example.com @user #awesome\")))\n"
   ]
  },
  {
   "cell_type": "code",
   "execution_count": 4,
   "id": "52b51ba5",
   "metadata": {},
   "outputs": [
    {
     "ename": "FileNotFoundError",
     "evalue": "[Errno 2] No such file or directory: '/mnt/data/twitter_large_dataset.csv'",
     "output_type": "error",
     "traceback": [
      "\u001b[31m---------------------------------------------------------------------------\u001b[39m",
      "\u001b[31mFileNotFoundError\u001b[39m                         Traceback (most recent call last)",
      "\u001b[36mCell\u001b[39m\u001b[36m \u001b[39m\u001b[32mIn[4]\u001b[39m\u001b[32m, line 5\u001b[39m\n\u001b[32m      2\u001b[39m \u001b[38;5;28;01mimport\u001b[39;00m\u001b[38;5;250m \u001b[39m\u001b[34;01mpandas\u001b[39;00m\u001b[38;5;250m \u001b[39m\u001b[38;5;28;01mas\u001b[39;00m\u001b[38;5;250m \u001b[39m\u001b[34;01mpd\u001b[39;00m\n\u001b[32m      3\u001b[39m \u001b[38;5;28;01mfrom\u001b[39;00m\u001b[38;5;250m \u001b[39m\u001b[34;01msklearn\u001b[39;00m\u001b[34;01m.\u001b[39;00m\u001b[34;01mpreprocessing\u001b[39;00m\u001b[38;5;250m \u001b[39m\u001b[38;5;28;01mimport\u001b[39;00m LabelEncoder\n\u001b[32m----> \u001b[39m\u001b[32m5\u001b[39m df = \u001b[43mpd\u001b[49m\u001b[43m.\u001b[49m\u001b[43mread_csv\u001b[49m\u001b[43m(\u001b[49m\u001b[33;43m'\u001b[39;49m\u001b[33;43m/mnt/data/twitter_large_dataset.csv\u001b[39;49m\u001b[33;43m'\u001b[39;49m\u001b[43m)\u001b[49m  \u001b[38;5;66;03m# using large dataset\u001b[39;00m\n\u001b[32m      6\u001b[39m \u001b[38;5;66;03m# If you fetched real tweets into twitter_fetched.csv, you can load that instead\u001b[39;00m\n\u001b[32m      7\u001b[39m \u001b[38;5;66;03m# df = pd.read_csv('/mnt/data/twitter_fetched.csv')\u001b[39;00m\n\u001b[32m      8\u001b[39m \n\u001b[32m      9\u001b[39m \u001b[38;5;66;03m# If there is no 'sentiment' column, you will need to label data (manual or use distant supervision)\u001b[39;00m\n\u001b[32m     10\u001b[39m \u001b[38;5;28mprint\u001b[39m(\u001b[33m'\u001b[39m\u001b[33mOriginal rows:\u001b[39m\u001b[33m'\u001b[39m, \u001b[38;5;28mlen\u001b[39m(df))\n",
      "\u001b[36mFile \u001b[39m\u001b[32m~\\AppData\\Local\\Programs\\Python\\Python313\\Lib\\site-packages\\pandas\\io\\parsers\\readers.py:1026\u001b[39m, in \u001b[36mread_csv\u001b[39m\u001b[34m(filepath_or_buffer, sep, delimiter, header, names, index_col, usecols, dtype, engine, converters, true_values, false_values, skipinitialspace, skiprows, skipfooter, nrows, na_values, keep_default_na, na_filter, verbose, skip_blank_lines, parse_dates, infer_datetime_format, keep_date_col, date_parser, date_format, dayfirst, cache_dates, iterator, chunksize, compression, thousands, decimal, lineterminator, quotechar, quoting, doublequote, escapechar, comment, encoding, encoding_errors, dialect, on_bad_lines, delim_whitespace, low_memory, memory_map, float_precision, storage_options, dtype_backend)\u001b[39m\n\u001b[32m   1013\u001b[39m kwds_defaults = _refine_defaults_read(\n\u001b[32m   1014\u001b[39m     dialect,\n\u001b[32m   1015\u001b[39m     delimiter,\n\u001b[32m   (...)\u001b[39m\u001b[32m   1022\u001b[39m     dtype_backend=dtype_backend,\n\u001b[32m   1023\u001b[39m )\n\u001b[32m   1024\u001b[39m kwds.update(kwds_defaults)\n\u001b[32m-> \u001b[39m\u001b[32m1026\u001b[39m \u001b[38;5;28;01mreturn\u001b[39;00m \u001b[43m_read\u001b[49m\u001b[43m(\u001b[49m\u001b[43mfilepath_or_buffer\u001b[49m\u001b[43m,\u001b[49m\u001b[43m \u001b[49m\u001b[43mkwds\u001b[49m\u001b[43m)\u001b[49m\n",
      "\u001b[36mFile \u001b[39m\u001b[32m~\\AppData\\Local\\Programs\\Python\\Python313\\Lib\\site-packages\\pandas\\io\\parsers\\readers.py:620\u001b[39m, in \u001b[36m_read\u001b[39m\u001b[34m(filepath_or_buffer, kwds)\u001b[39m\n\u001b[32m    617\u001b[39m _validate_names(kwds.get(\u001b[33m\"\u001b[39m\u001b[33mnames\u001b[39m\u001b[33m\"\u001b[39m, \u001b[38;5;28;01mNone\u001b[39;00m))\n\u001b[32m    619\u001b[39m \u001b[38;5;66;03m# Create the parser.\u001b[39;00m\n\u001b[32m--> \u001b[39m\u001b[32m620\u001b[39m parser = \u001b[43mTextFileReader\u001b[49m\u001b[43m(\u001b[49m\u001b[43mfilepath_or_buffer\u001b[49m\u001b[43m,\u001b[49m\u001b[43m \u001b[49m\u001b[43m*\u001b[49m\u001b[43m*\u001b[49m\u001b[43mkwds\u001b[49m\u001b[43m)\u001b[49m\n\u001b[32m    622\u001b[39m \u001b[38;5;28;01mif\u001b[39;00m chunksize \u001b[38;5;129;01mor\u001b[39;00m iterator:\n\u001b[32m    623\u001b[39m     \u001b[38;5;28;01mreturn\u001b[39;00m parser\n",
      "\u001b[36mFile \u001b[39m\u001b[32m~\\AppData\\Local\\Programs\\Python\\Python313\\Lib\\site-packages\\pandas\\io\\parsers\\readers.py:1620\u001b[39m, in \u001b[36mTextFileReader.__init__\u001b[39m\u001b[34m(self, f, engine, **kwds)\u001b[39m\n\u001b[32m   1617\u001b[39m     \u001b[38;5;28mself\u001b[39m.options[\u001b[33m\"\u001b[39m\u001b[33mhas_index_names\u001b[39m\u001b[33m\"\u001b[39m] = kwds[\u001b[33m\"\u001b[39m\u001b[33mhas_index_names\u001b[39m\u001b[33m\"\u001b[39m]\n\u001b[32m   1619\u001b[39m \u001b[38;5;28mself\u001b[39m.handles: IOHandles | \u001b[38;5;28;01mNone\u001b[39;00m = \u001b[38;5;28;01mNone\u001b[39;00m\n\u001b[32m-> \u001b[39m\u001b[32m1620\u001b[39m \u001b[38;5;28mself\u001b[39m._engine = \u001b[38;5;28;43mself\u001b[39;49m\u001b[43m.\u001b[49m\u001b[43m_make_engine\u001b[49m\u001b[43m(\u001b[49m\u001b[43mf\u001b[49m\u001b[43m,\u001b[49m\u001b[43m \u001b[49m\u001b[38;5;28;43mself\u001b[39;49m\u001b[43m.\u001b[49m\u001b[43mengine\u001b[49m\u001b[43m)\u001b[49m\n",
      "\u001b[36mFile \u001b[39m\u001b[32m~\\AppData\\Local\\Programs\\Python\\Python313\\Lib\\site-packages\\pandas\\io\\parsers\\readers.py:1880\u001b[39m, in \u001b[36mTextFileReader._make_engine\u001b[39m\u001b[34m(self, f, engine)\u001b[39m\n\u001b[32m   1878\u001b[39m     \u001b[38;5;28;01mif\u001b[39;00m \u001b[33m\"\u001b[39m\u001b[33mb\u001b[39m\u001b[33m\"\u001b[39m \u001b[38;5;129;01mnot\u001b[39;00m \u001b[38;5;129;01min\u001b[39;00m mode:\n\u001b[32m   1879\u001b[39m         mode += \u001b[33m\"\u001b[39m\u001b[33mb\u001b[39m\u001b[33m\"\u001b[39m\n\u001b[32m-> \u001b[39m\u001b[32m1880\u001b[39m \u001b[38;5;28mself\u001b[39m.handles = \u001b[43mget_handle\u001b[49m\u001b[43m(\u001b[49m\n\u001b[32m   1881\u001b[39m \u001b[43m    \u001b[49m\u001b[43mf\u001b[49m\u001b[43m,\u001b[49m\n\u001b[32m   1882\u001b[39m \u001b[43m    \u001b[49m\u001b[43mmode\u001b[49m\u001b[43m,\u001b[49m\n\u001b[32m   1883\u001b[39m \u001b[43m    \u001b[49m\u001b[43mencoding\u001b[49m\u001b[43m=\u001b[49m\u001b[38;5;28;43mself\u001b[39;49m\u001b[43m.\u001b[49m\u001b[43moptions\u001b[49m\u001b[43m.\u001b[49m\u001b[43mget\u001b[49m\u001b[43m(\u001b[49m\u001b[33;43m\"\u001b[39;49m\u001b[33;43mencoding\u001b[39;49m\u001b[33;43m\"\u001b[39;49m\u001b[43m,\u001b[49m\u001b[43m \u001b[49m\u001b[38;5;28;43;01mNone\u001b[39;49;00m\u001b[43m)\u001b[49m\u001b[43m,\u001b[49m\n\u001b[32m   1884\u001b[39m \u001b[43m    \u001b[49m\u001b[43mcompression\u001b[49m\u001b[43m=\u001b[49m\u001b[38;5;28;43mself\u001b[39;49m\u001b[43m.\u001b[49m\u001b[43moptions\u001b[49m\u001b[43m.\u001b[49m\u001b[43mget\u001b[49m\u001b[43m(\u001b[49m\u001b[33;43m\"\u001b[39;49m\u001b[33;43mcompression\u001b[39;49m\u001b[33;43m\"\u001b[39;49m\u001b[43m,\u001b[49m\u001b[43m \u001b[49m\u001b[38;5;28;43;01mNone\u001b[39;49;00m\u001b[43m)\u001b[49m\u001b[43m,\u001b[49m\n\u001b[32m   1885\u001b[39m \u001b[43m    \u001b[49m\u001b[43mmemory_map\u001b[49m\u001b[43m=\u001b[49m\u001b[38;5;28;43mself\u001b[39;49m\u001b[43m.\u001b[49m\u001b[43moptions\u001b[49m\u001b[43m.\u001b[49m\u001b[43mget\u001b[49m\u001b[43m(\u001b[49m\u001b[33;43m\"\u001b[39;49m\u001b[33;43mmemory_map\u001b[39;49m\u001b[33;43m\"\u001b[39;49m\u001b[43m,\u001b[49m\u001b[43m \u001b[49m\u001b[38;5;28;43;01mFalse\u001b[39;49;00m\u001b[43m)\u001b[49m\u001b[43m,\u001b[49m\n\u001b[32m   1886\u001b[39m \u001b[43m    \u001b[49m\u001b[43mis_text\u001b[49m\u001b[43m=\u001b[49m\u001b[43mis_text\u001b[49m\u001b[43m,\u001b[49m\n\u001b[32m   1887\u001b[39m \u001b[43m    \u001b[49m\u001b[43merrors\u001b[49m\u001b[43m=\u001b[49m\u001b[38;5;28;43mself\u001b[39;49m\u001b[43m.\u001b[49m\u001b[43moptions\u001b[49m\u001b[43m.\u001b[49m\u001b[43mget\u001b[49m\u001b[43m(\u001b[49m\u001b[33;43m\"\u001b[39;49m\u001b[33;43mencoding_errors\u001b[39;49m\u001b[33;43m\"\u001b[39;49m\u001b[43m,\u001b[49m\u001b[43m \u001b[49m\u001b[33;43m\"\u001b[39;49m\u001b[33;43mstrict\u001b[39;49m\u001b[33;43m\"\u001b[39;49m\u001b[43m)\u001b[49m\u001b[43m,\u001b[49m\n\u001b[32m   1888\u001b[39m \u001b[43m    \u001b[49m\u001b[43mstorage_options\u001b[49m\u001b[43m=\u001b[49m\u001b[38;5;28;43mself\u001b[39;49m\u001b[43m.\u001b[49m\u001b[43moptions\u001b[49m\u001b[43m.\u001b[49m\u001b[43mget\u001b[49m\u001b[43m(\u001b[49m\u001b[33;43m\"\u001b[39;49m\u001b[33;43mstorage_options\u001b[39;49m\u001b[33;43m\"\u001b[39;49m\u001b[43m,\u001b[49m\u001b[43m \u001b[49m\u001b[38;5;28;43;01mNone\u001b[39;49;00m\u001b[43m)\u001b[49m\u001b[43m,\u001b[49m\n\u001b[32m   1889\u001b[39m \u001b[43m\u001b[49m\u001b[43m)\u001b[49m\n\u001b[32m   1890\u001b[39m \u001b[38;5;28;01massert\u001b[39;00m \u001b[38;5;28mself\u001b[39m.handles \u001b[38;5;129;01mis\u001b[39;00m \u001b[38;5;129;01mnot\u001b[39;00m \u001b[38;5;28;01mNone\u001b[39;00m\n\u001b[32m   1891\u001b[39m f = \u001b[38;5;28mself\u001b[39m.handles.handle\n",
      "\u001b[36mFile \u001b[39m\u001b[32m~\\AppData\\Local\\Programs\\Python\\Python313\\Lib\\site-packages\\pandas\\io\\common.py:873\u001b[39m, in \u001b[36mget_handle\u001b[39m\u001b[34m(path_or_buf, mode, encoding, compression, memory_map, is_text, errors, storage_options)\u001b[39m\n\u001b[32m    868\u001b[39m \u001b[38;5;28;01melif\u001b[39;00m \u001b[38;5;28misinstance\u001b[39m(handle, \u001b[38;5;28mstr\u001b[39m):\n\u001b[32m    869\u001b[39m     \u001b[38;5;66;03m# Check whether the filename is to be opened in binary mode.\u001b[39;00m\n\u001b[32m    870\u001b[39m     \u001b[38;5;66;03m# Binary mode does not support 'encoding' and 'newline'.\u001b[39;00m\n\u001b[32m    871\u001b[39m     \u001b[38;5;28;01mif\u001b[39;00m ioargs.encoding \u001b[38;5;129;01mand\u001b[39;00m \u001b[33m\"\u001b[39m\u001b[33mb\u001b[39m\u001b[33m\"\u001b[39m \u001b[38;5;129;01mnot\u001b[39;00m \u001b[38;5;129;01min\u001b[39;00m ioargs.mode:\n\u001b[32m    872\u001b[39m         \u001b[38;5;66;03m# Encoding\u001b[39;00m\n\u001b[32m--> \u001b[39m\u001b[32m873\u001b[39m         handle = \u001b[38;5;28;43mopen\u001b[39;49m\u001b[43m(\u001b[49m\n\u001b[32m    874\u001b[39m \u001b[43m            \u001b[49m\u001b[43mhandle\u001b[49m\u001b[43m,\u001b[49m\n\u001b[32m    875\u001b[39m \u001b[43m            \u001b[49m\u001b[43mioargs\u001b[49m\u001b[43m.\u001b[49m\u001b[43mmode\u001b[49m\u001b[43m,\u001b[49m\n\u001b[32m    876\u001b[39m \u001b[43m            \u001b[49m\u001b[43mencoding\u001b[49m\u001b[43m=\u001b[49m\u001b[43mioargs\u001b[49m\u001b[43m.\u001b[49m\u001b[43mencoding\u001b[49m\u001b[43m,\u001b[49m\n\u001b[32m    877\u001b[39m \u001b[43m            \u001b[49m\u001b[43merrors\u001b[49m\u001b[43m=\u001b[49m\u001b[43merrors\u001b[49m\u001b[43m,\u001b[49m\n\u001b[32m    878\u001b[39m \u001b[43m            \u001b[49m\u001b[43mnewline\u001b[49m\u001b[43m=\u001b[49m\u001b[33;43m\"\u001b[39;49m\u001b[33;43m\"\u001b[39;49m\u001b[43m,\u001b[49m\n\u001b[32m    879\u001b[39m \u001b[43m        \u001b[49m\u001b[43m)\u001b[49m\n\u001b[32m    880\u001b[39m     \u001b[38;5;28;01melse\u001b[39;00m:\n\u001b[32m    881\u001b[39m         \u001b[38;5;66;03m# Binary mode\u001b[39;00m\n\u001b[32m    882\u001b[39m         handle = \u001b[38;5;28mopen\u001b[39m(handle, ioargs.mode)\n",
      "\u001b[31mFileNotFoundError\u001b[39m: [Errno 2] No such file or directory: '/mnt/data/twitter_large_dataset.csv'"
     ]
    }
   ],
   "source": [
    "# Load dataset, preprocess and create train/test split\n",
    "import pandas as pd\n",
    "from sklearn.preprocessing import LabelEncoder\n",
    "\n",
    "df = pd.read_csv('/mnt/data/twitter_large_dataset.csv')  # using large dataset\n",
    "# If you fetched real tweets into twitter_fetched.csv, you can load that instead\n",
    "# df = pd.read_csv('/mnt/data/twitter_fetched.csv')\n",
    "\n",
    "# If there is no 'sentiment' column, you will need to label data (manual or use distant supervision)\n",
    "print('Original rows:', len(df))\n",
    "\n",
    "# Clean and tokenize\n",
    "df['clean_text'] = df['text'].apply(clean_tweet).apply(tokenize)\n",
    "\n",
    "# Encode labels (positive/negative/neutral)\n",
    "le = LabelEncoder()\n",
    "df['label'] = le.fit_transform(df['sentiment'])\n",
    "\n",
    "# Train-test split\n",
    "train_df, test_df = train_test_split(df, test_size=0.33, random_state=42, stratify=df['label'])\n",
    "print('Train size:', len(train_df), 'Test size:', len(test_df))\n",
    "train_df.head()"
   ]
  },
  {
   "cell_type": "code",
   "execution_count": null,
   "id": "fc635293",
   "metadata": {},
   "outputs": [],
   "source": [
    "# Feature extraction with TF-IDF and model training\n",
    "from sklearn.feature_extraction.text import TfidfVectorizer\n",
    "from sklearn.linear_model import LogisticRegression\n",
    "from sklearn.pipeline import make_pipeline\n",
    "\n",
    "vectorizer = TfidfVectorizer(max_features=5000, ngram_range=(1,2))\n",
    "X_train = vectorizer.fit_transform(train_df['clean_text'])\n",
    "y_train = train_df['label']\n",
    "\n",
    "X_test = vectorizer.transform(test_df['clean_text'])\n",
    "y_test = test_df['label']\n",
    "\n",
    "clf = LogisticRegression(max_iter=1000)\n",
    "clf.fit(X_train, y_train)\n",
    "\n",
    "print('Training complete')\n"
   ]
  },
  {
   "cell_type": "code",
   "execution_count": null,
   "id": "e493aea8",
   "metadata": {},
   "outputs": [],
   "source": [
    "# Evaluation: accuracy, classification report, confusion matrix\n",
    "from sklearn.metrics import accuracy_score, classification_report, confusion_matrix\n",
    "\n",
    "y_pred = clf.predict(X_test)\n",
    "print('Accuracy:', accuracy_score(y_test, y_pred))\n",
    "print('\\nClassification report:\\n', classification_report(y_test, y_pred, target_names=le.classes_))\n",
    "print('\\nConfusion matrix:\\n', confusion_matrix(y_test, y_pred))\n"
   ]
  },
  {
   "cell_type": "code",
   "execution_count": null,
   "id": "b489ec22",
   "metadata": {},
   "outputs": [],
   "source": [
    "# Save the trained model and vectorizer\n",
    "import joblib\n",
    "joblib.dump(clf, '/mnt/data/sentiment_clf.joblib')\n",
    "joblib.dump(vectorizer, '/mnt/data/tfidf_vectorizer.joblib')\n",
    "joblib.dump(le, '/mnt/data/label_encoder.joblib')\n",
    "print('Saved: /mnt/data/sentiment_clf.joblib, tfidf_vectorizer.joblib, label_encoder.joblib')\n"
   ]
  },
  {
   "cell_type": "code",
   "execution_count": null,
   "id": "50dc3fe2",
   "metadata": {},
   "outputs": [],
   "source": [
    "# Inference: simple function to predict sentiment for new text\n",
    "import numpy as np\n",
    "\n",
    "def predict_sentiment(texts):\n",
    "    texts_clean = [tokenize(clean_tweet(t)) for t in texts]\n",
    "    X = vectorizer.transform(texts_clean)\n",
    "    preds = clf.predict(X)\n",
    "    return [le.inverse_transform([p])[0] for p in preds]\n",
    "\n",
    "examples = [\n",
    "    \"I hate waiting in long lines. Worst experience ever.\",\n",
    "    \"Absolutely love the camera on this phone!\",\n",
    "    \"It's okay — could be better, could be worse.\"\n",
    "]\n",
    "print('Predictions:', list(zip(examples, predict_sentiment(examples))))\n"
   ]
  },
  {
   "cell_type": "markdown",
   "id": "b794de18",
   "metadata": {},
   "source": [
    "## Next steps / Improvements\n",
    "\n",
    "- Use a larger labeled dataset (Sentiment140, SemEval datasets, or label your own scraped tweets).\n",
    "- Use data augmentation or transfer learning (fine-tune a transformer like `bert-base-uncased` with `transformers` library).\n",
    "- Handle imbalanced classes with class weights, oversampling (SMOTE), or focal loss.\n",
    "- Add more advanced preprocessing: emoji handling, slang normalization, negation handling.\n",
    "- Deploy the model as an API using FastAPI or Streamlit for a demo dashboard.\n",
    "\n",
    "---\n",
    "\n",
    "You're all set — the notebook is saved to `/mnt/data/twitter_sentiment_analysis.ipynb`. Download it and run locally (or open in Google Colab after uploading)."
   ]
  },
  {
   "cell_type": "code",
   "execution_count": null,
   "id": "465d2bf6-77da-4774-912f-8ffa4111d1ea",
   "metadata": {},
   "outputs": [],
   "source": []
  },
  {
   "cell_type": "code",
   "execution_count": null,
   "id": "02c2ed5a-5dc8-4ec3-bd10-d56813b7c3d0",
   "metadata": {},
   "outputs": [],
   "source": []
  },
  {
   "cell_type": "code",
   "execution_count": null,
   "id": "a9861036-cbd4-4794-abda-194d08dd087c",
   "metadata": {},
   "outputs": [],
   "source": []
  }
 ],
 "metadata": {
  "kernelspec": {
   "display_name": "Python 3 (ipykernel)",
   "language": "python",
   "name": "python3"
  },
  "language_info": {
   "codemirror_mode": {
    "name": "ipython",
    "version": 3
   },
   "file_extension": ".py",
   "mimetype": "text/x-python",
   "name": "python",
   "nbconvert_exporter": "python",
   "pygments_lexer": "ipython3",
   "version": "3.13.7"
  }
 },
 "nbformat": 4,
 "nbformat_minor": 5
}
